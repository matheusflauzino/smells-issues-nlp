{
 "cells": [
  {
   "cell_type": "markdown",
   "metadata": {},
   "source": [
    "# Code Analyzer with PMD"
   ]
  },
  {
   "cell_type": "code",
   "execution_count": 1,
   "metadata": {},
   "outputs": [],
   "source": [
    "import csv\n",
    "import os\n",
    "import pandas as pd\n",
    "import numpy as np"
   ]
  },
  {
   "cell_type": "code",
   "execution_count": 5,
   "metadata": {},
   "outputs": [],
   "source": [
    "PATH_REPOSITORIES = 'repositories'\n",
    "PATH_RESULTS = 'results'\n",
    "FILE_LIST_REPOSITORIES = 'data/filtered_data.csv'\n",
    "PMD = '/home/matheus/pmd-bin-6.9.0/bin/run.sh pmd'"
   ]
  },
  {
   "cell_type": "code",
   "execution_count": 6,
   "metadata": {},
   "outputs": [],
   "source": [
    "#created path repositories \n",
    "if not os.path.exists(PATH_REPOSITORIES):\n",
    "    os.makedirs(PATH_REPOSITORIES)\n",
    "\n",
    "#created path results \n",
    "if not os.path.exists(PATH_RESULTS):\n",
    "    os.makedirs(PATH_RESULTS)"
   ]
  },
  {
   "cell_type": "code",
   "execution_count": 12,
   "metadata": {},
   "outputs": [
    {
     "data": {
      "text/html": [
       "<div>\n",
       "<style scoped>\n",
       "    .dataframe tbody tr th:only-of-type {\n",
       "        vertical-align: middle;\n",
       "    }\n",
       "\n",
       "    .dataframe tbody tr th {\n",
       "        vertical-align: top;\n",
       "    }\n",
       "\n",
       "    .dataframe thead th {\n",
       "        text-align: right;\n",
       "    }\n",
       "</style>\n",
       "<table border=\"1\" class=\"dataframe\">\n",
       "  <thead>\n",
       "    <tr style=\"text-align: right;\">\n",
       "      <th></th>\n",
       "      <th>appid</th>\n",
       "      <th>sourceRep</th>\n",
       "    </tr>\n",
       "  </thead>\n",
       "  <tbody>\n",
       "    <tr>\n",
       "      <th>0</th>\n",
       "      <td>io.github.hidroh.materialistic</td>\n",
       "      <td>https://github.com/hidroh/materialistic</td>\n",
       "    </tr>\n",
       "    <tr>\n",
       "      <th>1</th>\n",
       "      <td>io.github.gsantner.memetastic</td>\n",
       "      <td>https://github.com/gsantner/memetastic</td>\n",
       "    </tr>\n",
       "    <tr>\n",
       "      <th>2</th>\n",
       "      <td>com.workingagenda.democracydroid</td>\n",
       "      <td>https://github.com/fenimore/DemocracyDroid</td>\n",
       "    </tr>\n",
       "    <tr>\n",
       "      <th>3</th>\n",
       "      <td>com.todobom.opennotescanner</td>\n",
       "      <td>https://github.com/ctodobom/OpenNoteScanner</td>\n",
       "    </tr>\n",
       "    <tr>\n",
       "      <th>4</th>\n",
       "      <td>io.gresse.hugo.anecdote</td>\n",
       "      <td>https://github.com/HugoGresse/Anecdote</td>\n",
       "    </tr>\n",
       "  </tbody>\n",
       "</table>\n",
       "</div>"
      ],
      "text/plain": [
       "                              appid  \\\n",
       "0    io.github.hidroh.materialistic   \n",
       "1     io.github.gsantner.memetastic   \n",
       "2  com.workingagenda.democracydroid   \n",
       "3       com.todobom.opennotescanner   \n",
       "4           io.gresse.hugo.anecdote   \n",
       "\n",
       "                                     sourceRep  \n",
       "0      https://github.com/hidroh/materialistic  \n",
       "1       https://github.com/gsantner/memetastic  \n",
       "2   https://github.com/fenimore/DemocracyDroid  \n",
       "3  https://github.com/ctodobom/OpenNoteScanner  \n",
       "4       https://github.com/HugoGresse/Anecdote  "
      ]
     },
     "execution_count": 12,
     "metadata": {},
     "output_type": "execute_result"
    }
   ],
   "source": [
    "#load csv repositories data\n",
    "list_repositories = pd.read_csv(FILE_LIST_REPOSITORIES)\n",
    "repositories = list_repositories[:5]\n",
    "repositories"
   ]
  },
  {
   "cell_type": "code",
   "execution_count": 25,
   "metadata": {},
   "outputs": [
    {
     "name": "stdout",
     "output_type": "stream",
     "text": [
      "runing PMD in repository hidroh/materialistic...\n",
      "runing PMD in repository gsantner/memetastic...\n",
      "runing PMD in repository fenimore/DemocracyDroid...\n",
      "runing PMD in repository ctodobom/OpenNoteScanner...\n",
      "runing PMD in repository HugoGresse/Anecdote...\n",
      "end of execution...\n"
     ]
    }
   ],
   "source": [
    "for repository in repositories.sourceRep:\n",
    "    rep_name = repository.split('https://github.com/',1)[1]\n",
    "    name_path = rep_name.replace('/','_')\n",
    "    path_rep_clone = PATH_REPOSITORIES + '/' + name_path\n",
    "    path_name_repository = os.getcwd() + '/' + path_rep_clone\n",
    "    path_name_result = os.getcwd() + '/' + PATH_RESULTS + '/' + name_path + '.csv'\n",
    "    str_command = PMD + ' -d {} -f csv -R \"category/java/design.xml/ExcessiveClassLength, category/java/design.xml/ExcessiveMethodLength, category/java/design.xml/ExcessiveParameterList, category/java/design.xml/DataClass, category/java/design.xml/TooManyMethods\" -r {}'.format(path_name_repository,path_name_result)\n",
    "    os.system(str_command)\n",
    "    print('runing PMD in repository {}...'.format(rep_name))\n",
    "print('end of execution...')"
   ]
  },
  {
   "cell_type": "code",
   "execution_count": 27,
   "metadata": {},
   "outputs": [],
   "source": [
    "df = pd.read_csv('results/hidroh_materialistic.csv')"
   ]
  },
  {
   "cell_type": "code",
   "execution_count": 29,
   "metadata": {},
   "outputs": [
    {
     "data": {
      "text/plain": [
       "TooManyMethods           39\n",
       "DataClass                 4\n",
       "ExcessiveMethodLength     1\n",
       "Name: Rule, dtype: int64"
      ]
     },
     "execution_count": 29,
     "metadata": {},
     "output_type": "execute_result"
    }
   ],
   "source": [
    "df['Rule'].value_counts()"
   ]
  },
  {
   "cell_type": "code",
   "execution_count": null,
   "metadata": {},
   "outputs": [],
   "source": []
  }
 ],
 "metadata": {
  "kernelspec": {
   "display_name": "Python 3",
   "language": "python",
   "name": "python3"
  },
  "language_info": {
   "codemirror_mode": {
    "name": "ipython",
    "version": 3
   },
   "file_extension": ".py",
   "mimetype": "text/x-python",
   "name": "python",
   "nbconvert_exporter": "python",
   "pygments_lexer": "ipython3",
   "version": "3.5.2"
  }
 },
 "nbformat": 4,
 "nbformat_minor": 2
}
