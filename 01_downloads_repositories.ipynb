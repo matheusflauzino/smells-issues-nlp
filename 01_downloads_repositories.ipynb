{
 "cells": [
  {
   "cell_type": "markdown",
   "metadata": {},
   "source": [
    "# Repositories Download\n",
    "\n",
    "Here is processed the download of repositories."
   ]
  },
  {
   "cell_type": "code",
   "execution_count": 49,
   "metadata": {},
   "outputs": [],
   "source": [
    "import csv\n",
    "import pandas as pd\n",
    "import numpy as np\n",
    "import os\n",
    "import git\n",
    "from git import Repo"
   ]
  },
  {
   "cell_type": "markdown",
   "metadata": {},
   "source": [
    "### Declaration of constants and paths"
   ]
  },
  {
   "cell_type": "code",
   "execution_count": 50,
   "metadata": {},
   "outputs": [],
   "source": [
    "PATH_REPOSITORIES = 'repositories'\n",
    "PATH_RESULTS = 'results'\n",
    "FILE_LIST_REPOSITORIES = 'data/filtered_data.csv'"
   ]
  },
  {
   "cell_type": "markdown",
   "metadata": {},
   "source": [
    "### Selects 5 download repositories"
   ]
  },
  {
   "cell_type": "code",
   "execution_count": 51,
   "metadata": {},
   "outputs": [
    {
     "data": {
      "text/html": [
       "<div>\n",
       "<style scoped>\n",
       "    .dataframe tbody tr th:only-of-type {\n",
       "        vertical-align: middle;\n",
       "    }\n",
       "\n",
       "    .dataframe tbody tr th {\n",
       "        vertical-align: top;\n",
       "    }\n",
       "\n",
       "    .dataframe thead th {\n",
       "        text-align: right;\n",
       "    }\n",
       "</style>\n",
       "<table border=\"1\" class=\"dataframe\">\n",
       "  <thead>\n",
       "    <tr style=\"text-align: right;\">\n",
       "      <th></th>\n",
       "      <th>appid</th>\n",
       "      <th>sourceRep</th>\n",
       "    </tr>\n",
       "  </thead>\n",
       "  <tbody>\n",
       "    <tr>\n",
       "      <th>0</th>\n",
       "      <td>io.github.hidroh.materialistic</td>\n",
       "      <td>https://github.com/hidroh/materialistic</td>\n",
       "    </tr>\n",
       "    <tr>\n",
       "      <th>1</th>\n",
       "      <td>io.github.gsantner.memetastic</td>\n",
       "      <td>https://github.com/gsantner/memetastic</td>\n",
       "    </tr>\n",
       "    <tr>\n",
       "      <th>2</th>\n",
       "      <td>com.workingagenda.democracydroid</td>\n",
       "      <td>https://github.com/fenimore/DemocracyDroid</td>\n",
       "    </tr>\n",
       "    <tr>\n",
       "      <th>3</th>\n",
       "      <td>com.todobom.opennotescanner</td>\n",
       "      <td>https://github.com/ctodobom/OpenNoteScanner</td>\n",
       "    </tr>\n",
       "    <tr>\n",
       "      <th>4</th>\n",
       "      <td>io.gresse.hugo.anecdote</td>\n",
       "      <td>https://github.com/HugoGresse/Anecdote</td>\n",
       "    </tr>\n",
       "  </tbody>\n",
       "</table>\n",
       "</div>"
      ],
      "text/plain": [
       "                              appid  \\\n",
       "0    io.github.hidroh.materialistic   \n",
       "1     io.github.gsantner.memetastic   \n",
       "2  com.workingagenda.democracydroid   \n",
       "3       com.todobom.opennotescanner   \n",
       "4           io.gresse.hugo.anecdote   \n",
       "\n",
       "                                     sourceRep  \n",
       "0      https://github.com/hidroh/materialistic  \n",
       "1       https://github.com/gsantner/memetastic  \n",
       "2   https://github.com/fenimore/DemocracyDroid  \n",
       "3  https://github.com/ctodobom/OpenNoteScanner  \n",
       "4       https://github.com/HugoGresse/Anecdote  "
      ]
     },
     "execution_count": 51,
     "metadata": {},
     "output_type": "execute_result"
    }
   ],
   "source": [
    "df = pd.read_csv(FILE_LIST_REPOSITORIES)\n",
    "list_repositories = df[:5]\n",
    "list_repositories"
   ]
  },
  {
   "cell_type": "markdown",
   "metadata": {},
   "source": [
    "### Create paths"
   ]
  },
  {
   "cell_type": "code",
   "execution_count": 52,
   "metadata": {},
   "outputs": [],
   "source": [
    "#created path repositories \n",
    "if not os.path.exists(PATH_REPOSITORIES):\n",
    "    os.makedirs(PATH_REPOSITORIES)\n",
    "\n",
    "#created path results \n",
    "if not os.path.exists(PATH_RESULTS):\n",
    "    os.makedirs(PATH_RESULTS)"
   ]
  },
  {
   "cell_type": "code",
   "execution_count": 53,
   "metadata": {},
   "outputs": [
    {
     "name": "stdout",
     "output_type": "stream",
     "text": [
      "repository https://github.com/hidroh/materialistic exist\n",
      "repository https://github.com/gsantner/memetastic exist\n",
      "repository https://github.com/fenimore/DemocracyDroid exist\n",
      "repository https://github.com/ctodobom/OpenNoteScanner exist\n",
      "repository https://github.com/HugoGresse/Anecdote exist\n",
      "clone completed...\n"
     ]
    }
   ],
   "source": [
    "\n",
    "for repository in list_repositories.sourceRep :\n",
    "#     print('cloning repostitory %s...' %(repository))\n",
    "    \n",
    "    rep_name = repository.split('https://github.com/',1)[1]\n",
    "    name_path = rep_name.replace('/','_')\n",
    "    path_rep_clone = PATH_REPOSITORIES + '/' + name_path\n",
    "    \n",
    "    if not (os.path.exists(path_rep_clone)): #clona se não existe\n",
    "        try:\n",
    "            print('cloning repostitory %s...' %(repository))\n",
    "            Repo.clone_from(repository,path_rep_clone)    \n",
    "        except:\n",
    "            print('not cloning or repostitory exists %s...' %(repository))\n",
    "    else:\n",
    "        print('repository %s exist' %(repository))\n",
    "print('clone completed...')"
   ]
  },
  {
   "cell_type": "code",
   "execution_count": null,
   "metadata": {},
   "outputs": [],
   "source": []
  },
  {
   "cell_type": "code",
   "execution_count": null,
   "metadata": {},
   "outputs": [],
   "source": []
  }
 ],
 "metadata": {
  "kernelspec": {
   "display_name": "Python 3",
   "language": "python",
   "name": "python3"
  },
  "language_info": {
   "codemirror_mode": {
    "name": "ipython",
    "version": 3
   },
   "file_extension": ".py",
   "mimetype": "text/x-python",
   "name": "python",
   "nbconvert_exporter": "python",
   "pygments_lexer": "ipython3",
   "version": "3.5.2"
  }
 },
 "nbformat": 4,
 "nbformat_minor": 2
}
